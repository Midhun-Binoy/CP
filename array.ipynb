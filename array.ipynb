{
 "cells": [
  {
   "cell_type": "code",
   "execution_count": null,
   "metadata": {},
   "outputs": [],
   "source": [
    "def sum(arr):\n",
    "  sum = 0\n",
    "  for el in arr:\n",
    "    sum += el\n",
    "  return sum\n",
    "print(sum([1, 2, 3, 4, 5]))"
   ]
  },
  {
   "cell_type": "code",
   "execution_count": null,
   "metadata": {},
   "outputs": [],
   "source": [
    "def largest(arr):\n",
    "  largest = arr[0]\n",
    "  for el in arr:\n",
    "    if el > largest:\n",
    "      largest = el\n",
    "  return largest\n",
    "print(largest([1, 2, 3, 4, 5]))"
   ]
  },
  {
   "cell_type": "code",
   "execution_count": null,
   "metadata": {},
   "outputs": [],
   "source": [
    "def rotate_left(arr, d):\n",
    "  n = len(arr)\n",
    "  d %= n\n",
    "  return arr[d:] + arr[:d]\n",
    "print(rotate_left([1, 2, 3, 4, 5], 2))"
   ]
  },
  {
   "cell_type": "code",
   "execution_count": null,
   "metadata": {},
   "outputs": [],
   "source": [
    "def rotate_right(arr, d):\n",
    "  n = len(arr)\n",
    "  d %= n\n",
    "  return arr[-d:] + arr[:-d]\n",
    "print(rotate_right([1, 2, 3, 4, 5], 2))"
   ]
  },
  {
   "cell_type": "code",
   "execution_count": null,
   "metadata": {},
   "outputs": [],
   "source": [
    "def split(arr, n):\n",
    "  return arr[n:] + arr[:n]\n",
    "print(split([3, 1, 2], 1))"
   ]
  },
  {
   "cell_type": "code",
   "execution_count": null,
   "metadata": {},
   "outputs": [],
   "source": [
    "def remainder_of_array_multiplication(arr, n):\n",
    "  product = 1\n",
    "  for el in arr:\n",
    "    product *= el\n",
    "  remainder = product % n\n",
    "  return remainder\n",
    "print(remainder_of_array_multiplication([100, 10], 5))"
   ]
  },
  {
   "cell_type": "code",
   "execution_count": null,
   "metadata": {},
   "outputs": [],
   "source": [
    "def monotonic(arr):\n",
    "  decreasing = increasing = True\n",
    "  for i in range(1, len(arr)):\n",
    "    if arr[i] > arr[i - 1]:\n",
    "      decreasing = False\n",
    "    elif arr[i] < arr[i - 1]:\n",
    "      increasing = False\n",
    "  return increasing or decreasing\n",
    "print(monotonic([1, 2, 3, 4]))"
   ]
  }
 ],
 "metadata": {
  "kernelspec": {
   "display_name": "base",
   "language": "python",
   "name": "python3"
  },
  "language_info": {
   "codemirror_mode": {
    "name": "ipython",
    "version": 3
   },
   "file_extension": ".py",
   "mimetype": "text/x-python",
   "name": "python",
   "nbconvert_exporter": "python",
   "pygments_lexer": "ipython3",
   "version": "3.12.7"
  }
 },
 "nbformat": 4,
 "nbformat_minor": 2
}
