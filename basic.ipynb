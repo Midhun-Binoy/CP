{
 "cells": [
  {
   "cell_type": "code",
   "execution_count": null,
   "metadata": {},
   "outputs": [],
   "source": [
    "def add(a, b):\n",
    "  return a + b\n",
    "result = add(1, 2)\n",
    "print(result)"
   ]
  },
  {
   "cell_type": "code",
   "execution_count": null,
   "metadata": {},
   "outputs": [],
   "source": [
    "def maximum(a, b):\n",
    "  if a > b:\n",
    "    return a\n",
    "  else:\n",
    "    return b\n",
    "result = maximum(1, 2)\n",
    "print(result)"
   ]
  },
  {
   "cell_type": "code",
   "execution_count": null,
   "metadata": {},
   "outputs": [],
   "source": [
    "def fact(n):\n",
    "  if n == 0:\n",
    "    return 1\n",
    "  else:\n",
    "    return n * fact(n - 1)\n",
    "result = fact(5)\n",
    "print(result)"
   ]
  },
  {
   "cell_type": "code",
   "execution_count": null,
   "metadata": {},
   "outputs": [],
   "source": [
    "def simple_interest(p, r, t):\n",
    "  return p * r * t / 100\n",
    "\n",
    "result = simple_interest(10000, 5, 5)\n",
    "print(result)"
   ]
  },
  {
   "cell_type": "code",
   "execution_count": null,
   "metadata": {},
   "outputs": [],
   "source": [
    "def compount_interest(p, r, t):\n",
    "  a = p * (1 + r / 100) ** t\n",
    "  return a - p\n",
    "result = compount_interest(10000, 5, 5)\n",
    "print(result)"
   ]
  },
  {
   "cell_type": "code",
   "execution_count": null,
   "metadata": {},
   "outputs": [],
   "source": [
    "def armstrong(n):\n",
    "  sum = 0\n",
    "  temp = n\n",
    "  length = len(str(n))\n",
    "  while temp:\n",
    "    digit = temp % 10\n",
    "    sum += digit ** length\n",
    "    temp //= 10\n",
    "  if n == sum:\n",
    "    return True\n",
    "  return False\n",
    "result = armstrong(407)\n",
    "print(result)"
   ]
  },
  {
   "cell_type": "code",
   "execution_count": null,
   "metadata": {},
   "outputs": [],
   "source": [
    "def area_of_circle(r):\n",
    "  return 3.14 * r ** 2\n",
    "result = area_of_circle(5)\n",
    "print(result)"
   ]
  },
  {
   "cell_type": "code",
   "execution_count": null,
   "metadata": {},
   "outputs": [],
   "source": [
    "from math import sqrt\n",
    "\n",
    "def prime_nos(x, y):\n",
    "  primes = []\n",
    "  for i in range(x, y + 1):\n",
    "    if i == 0 or i == 1:\n",
    "      continue\n",
    "    for j in range(2, int(sqrt(i)) + 1):\n",
    "      if i % j == 0:\n",
    "        break\n",
    "    else:\n",
    "      primes.append(i)\n",
    "  return primes\n",
    "result = prime_nos(1, 10)\n",
    "print(result)"
   ]
  },
  {
   "cell_type": "code",
   "execution_count": null,
   "metadata": {},
   "outputs": [],
   "source": [
    "def prime(n):\n",
    "  for i in range(2, int(sqrt(n)) + 1):\n",
    "    if n % i == 0:\n",
    "      return False\n",
    "  return True\n",
    "result = prime(6)\n",
    "print(result)"
   ]
  },
  {
   "cell_type": "code",
   "execution_count": null,
   "metadata": {},
   "outputs": [],
   "source": [
    "def nth_fibonacci(n):\n",
    "  a, b = 0, 1\n",
    "  for _ in range(1, n):\n",
    "    a, b = b, a + b\n",
    "  return a\n",
    "result = nth_fibonacci(4)\n",
    "print(result)"
   ]
  },
  {
   "cell_type": "code",
   "execution_count": null,
   "metadata": {},
   "outputs": [],
   "source": [
    "from math import sqrt\n",
    "\n",
    "def is_perfect_square(x):\n",
    "  s = int(sqrt(x))\n",
    "  return s * s == x\n",
    "def is_fibonacci(n):\n",
    "  return is_perfect_square(5 * n * n + 4) or is_perfect_square(5 * n * n - 4)\n",
    "result = is_fibonacci(4)\n",
    "print(result)\n"
   ]
  },
  {
   "cell_type": "code",
   "execution_count": null,
   "metadata": {},
   "outputs": [],
   "source": [
    "def nth_multiple_in_fibonacci(k, n):\n",
    "  a, b = 0, 1\n",
    "  count = pos = 0\n",
    "\n",
    "  while True:\n",
    "    pos += 1\n",
    "    if a % k == 0 and a != 0:\n",
    "      count += 1\n",
    "      if count == n:\n",
    "        return pos - 1\n",
    "\n",
    "    a, b = b, a + b\n",
    "result = nth_multiple_in_fibonacci(4, 5)\n",
    "print(result)"
   ]
  },
  {
   "cell_type": "code",
   "execution_count": null,
   "metadata": {},
   "outputs": [],
   "source": [
    "def ascii_value(c):\n",
    "  return ord(c)\n",
    "result = ascii_value('a')\n",
    "print(result)"
   ]
  },
  {
   "cell_type": "code",
   "execution_count": null,
   "metadata": {},
   "outputs": [],
   "source": [
    "def sum_of_squares(n):\n",
    "  sum = 0\n",
    "  for i in range(1, n + 1):\n",
    "    sum += i ** 2\n",
    "  return sum\n",
    "result = sum_of_squares(4)\n",
    "print(result)"
   ]
  },
  {
   "cell_type": "code",
   "execution_count": null,
   "metadata": {},
   "outputs": [],
   "source": [
    "def sum_of_cubes(n):\n",
    "  sum = 0\n",
    "  for i in range(1, n + 1):\n",
    "    sum += i ** 3\n",
    "  return sum\n",
    "result = sum_of_cubes(7)\n",
    "print(result)"
   ]
  }
 ],
 "metadata": {
  "kernelspec": {
   "display_name": "base",
   "language": "python",
   "name": "python3"
  },
  "language_info": {
   "codemirror_mode": {
    "name": "ipython",
    "version": 3
   },
   "file_extension": ".py",
   "mimetype": "text/x-python",
   "name": "python",
   "nbconvert_exporter": "python",
   "pygments_lexer": "ipython3",
   "version": "3.12.7"
  }
 },
 "nbformat": 4,
 "nbformat_minor": 2
}
